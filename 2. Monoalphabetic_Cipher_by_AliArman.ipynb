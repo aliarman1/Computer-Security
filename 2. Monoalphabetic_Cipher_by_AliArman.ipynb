{
  "nbformat": 4,
  "nbformat_minor": 0,
  "metadata": {
    "colab": {
      "provenance": [],
      "authorship_tag": "ABX9TyPUhgDeSUzW5QRs1m3HK93m"
    },
    "kernelspec": {
      "name": "python3",
      "display_name": "Python 3"
    },
    "language_info": {
      "name": "python"
    }
  },
  "cells": [
    {
      "cell_type": "code",
      "execution_count": 1,
      "metadata": {
        "colab": {
          "base_uri": "https://localhost:8080/"
        },
        "id": "KHaI6wJh74QY",
        "outputId": "8ecbaa79-53b1-4bc7-c308-fe928b7a1e67"
      },
      "outputs": [
        {
          "output_type": "stream",
          "name": "stdout",
          "text": [
            "MONOALPHABETIC CIPHER\n",
            "Encryption\n",
            "Enter the plain-text (Plain-text should contain only alphabets and spaces) :\n",
            "WeLove\n",
            "Key is pre set: \n",
            "XYZABCDEFGHIJKLMNOPQRSTUVW\n",
            "Cipher-text is : TBILSB\n",
            "Time required for encryption = 0.0000025749\n",
            "MONOALPHABETIC CIPHER\n",
            "Decryption\n",
            "Enter the cipher-text (Cipher-text should contain only capital alphabets without any spaces) :\n",
            "TBILSB\n",
            "Key is pre set: \n",
            "XYZABCDEFGHIJKLMNOPQRSTUVW\n",
            "Plain-text is : WELOVE\n",
            "Time required for decryption = 0.0000049114\n"
          ]
        }
      ],
      "source": [
        "import time\n",
        "\n",
        "def encryptMe():\n",
        "    print(\"MONOALPHABETIC CIPHER\")\n",
        "    print(\"Encryption\")\n",
        "    print(\"Enter the plain-text (Plain-text should contain only alphabets and spaces) :\")\n",
        "\n",
        "    while True :\n",
        "        plain_text = input().strip()\n",
        "        plain_text = plain_text.replace(\" \", \"\")\n",
        "        if plain_text.isalpha() :\n",
        "            break\n",
        "        else :\n",
        "            print(\"Follow the rules. Plain-text should contain only alphabets\")\n",
        "            print(\"Enter the plain-text :\")\n",
        "\n",
        "    # print(\"Enter the key (key must be in capital alphabets with all unique letters and length should be 26) :\")\n",
        "    print(\"Key is pre set: \")\n",
        "    print(\"XYZABCDEFGHIJKLMNOPQRSTUVW\")\n",
        "    \n",
        "    key = \"XYZABCDEFGHIJKLMNOPQRSTUVW\"\n",
        "\n",
        "    time_required = [0] * 10\n",
        "\n",
        "    for j in range(10) :\n",
        "        start_time = time.time()\n",
        "        cipher_text = []\n",
        "        for i in plain_text.upper() :\n",
        "            cipher_text.append(key[ord(i) - ord('A')])\n",
        "        end_time = time.time()\n",
        "        time_required[j] = end_time - start_time\n",
        "\n",
        "    average_time = sum(time_required) / 10\n",
        "    print(\"Cipher-text is :\", end = ' ')\n",
        "    print(\"\".join(cipher_text))\n",
        "    print(\"Time required for encryption = %.10f\" % (average_time))\n",
        "\n",
        "def decryptMe():\n",
        "    import time\n",
        "    print(\"MONOALPHABETIC CIPHER\")\n",
        "    print(\"Decryption\")\n",
        "    print(\"Enter the cipher-text (Cipher-text should contain only capital alphabets without any spaces) :\")\n",
        "\n",
        "    while True :\n",
        "        cipher_text = input().strip()\n",
        "        if cipher_text.isalpha() and cipher_text.isupper() :\n",
        "            break\n",
        "        else :\n",
        "            print(\"Follow the rules. Cipher-text should contain only capital alphabets without any spaces :\")\n",
        "            print(\"Enter the cipher-text :\")\n",
        "\n",
        "    print(\"Key is pre set: \")\n",
        "    print(\"XYZABCDEFGHIJKLMNOPQRSTUVW\")\n",
        "    key = \"XYZABCDEFGHIJKLMNOPQRSTUVW\"\n",
        "    time_required = [0] * 10\n",
        "\n",
        "    for j in range(10) :\n",
        "        start_time = time.time()\n",
        "        plain_text = []\n",
        "        for i in cipher_text :\n",
        "            plain_text.append(chr(ord('A') + key.index(i)))\n",
        "        end_time = time.time()\n",
        "        time_required[j] = end_time - start_time\n",
        "\n",
        "    average_time = sum(time_required) / 10\n",
        "    print(\"Plain-text is :\", end = ' ')\n",
        "    print(\"\".join(plain_text))\n",
        "    print(\"Time required for decryption = %.10f\" % (average_time))\n",
        "\n",
        "    \n",
        "if __name__ == \"__main__\":\n",
        "    encryptMe()\n",
        "    decryptMe()\n",
        "\n"
      ]
    }
  ]
}
