{
  "nbformat": 4,
  "nbformat_minor": 0,
  "metadata": {
    "colab": {
      "provenance": [],
      "authorship_tag": "ABX9TyPp5AdTcxoEoCsveErUNUjH"
    },
    "kernelspec": {
      "name": "python3",
      "display_name": "Python 3"
    },
    "language_info": {
      "name": "python"
    }
  },
  "cells": [
    {
      "cell_type": "code",
      "execution_count": 3,
      "metadata": {
        "colab": {
          "base_uri": "https://localhost:8080/"
        },
        "id": "P1CalDX88_MN",
        "outputId": "3495d8d3-e71b-4326-a97f-e2bdd73dd885"
      },
      "outputs": [
        {
          "output_type": "stream",
          "name": "stdout",
          "text": [
            "n = 21\n",
            "e = 5\n",
            "d = 5.0\n",
            "Public key: (5, 21)\n",
            "Private key: (5.0, 21)\n",
            "Original message:11\n",
            "Encrypted message: 2.0\n",
            "Decrypted message: 11.0\n"
          ]
        }
      ],
      "source": [
        "import math\n",
        "\n",
        "p = 3\n",
        "q = 7\n",
        "\n",
        "n = p*q\n",
        "print(\"n =\", n)\n",
        "\n",
        "phi = (p-1)*(q-1)\n",
        "\n",
        "e = 2\n",
        "while(e<phi):\n",
        "    if (math.gcd(e, phi) == 1):\n",
        "        break\n",
        "    else:\n",
        "        e += 1\n",
        "\n",
        "print(\"e =\", e)\n",
        "\n",
        "# step 5\n",
        "k = 0\n",
        "while(1):\n",
        "    d = ((k*phi)+1)/e\n",
        "    if(d == int(d)):\n",
        "      break\n",
        "    else:\n",
        "        k += 1\n",
        "\n",
        "print(\"d =\", d)\n",
        "print(f'Public key: {e, n}')\n",
        "print(f'Private key: {d, n}')\n",
        "\n",
        "# plain text\n",
        "msg = 11\n",
        "print(f'Original message:{msg}')\n",
        "\n",
        "# encryption\n",
        "C = pow(msg, e)\n",
        "C = math.fmod(C, n)\n",
        "print(f'Encrypted message: {C}')\n",
        "\n",
        "# decryption\n",
        "M = pow(C, d)\n",
        "M = math.fmod(M, n)\n",
        "\n",
        "print(f'Decrypted message: {M}')\n"
      ]
    }
  ]
}