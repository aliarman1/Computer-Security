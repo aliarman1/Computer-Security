{
  "nbformat": 4,
  "nbformat_minor": 0,
  "metadata": {
    "colab": {
      "provenance": [],
      "authorship_tag": "ABX9TyNtloIdCSy7q4beSJetohWi",
      "include_colab_link": true
    },
    "kernelspec": {
      "name": "python3",
      "display_name": "Python 3"
    },
    "language_info": {
      "name": "python"
    }
  },
  "cells": [
    {
      "cell_type": "markdown",
      "metadata": {
        "id": "view-in-github",
        "colab_type": "text"
      },
      "source": [
        "<a href=\"https://colab.research.google.com/github/aliarman1/Computer-Security/blob/main/2.%20Monoalphabetic_Cipher_v1.ipynb\" target=\"_parent\"><img src=\"https://colab.research.google.com/assets/colab-badge.svg\" alt=\"Open In Colab\"/></a>"
      ]
    },
    {
      "cell_type": "code",
      "execution_count": 1,
      "metadata": {
        "colab": {
          "base_uri": "https://localhost:8080/"
        },
        "id": "bjYFR6AYGO5B",
        "outputId": "9a553dd6-2956-4ae3-db50-a721ac6fa696"
      },
      "outputs": [
        {
          "output_type": "stream",
          "name": "stdout",
          "text": [
            "Enter the message to be encrypted: Hello\n",
            "The encrypted text is:  KHOOR\n",
            "Enter the message to be decrypted: KHOOR\n",
            "The decrypted text is:  HELLO\n"
          ]
        }
      ],
      "source": [
        "\n",
        "\n",
        "cipher_key = {'A':'D', 'B':'E', 'C':'F', 'D':'G', 'E':'H', \n",
        "              'F':'I', 'G':'J', 'H':'K', 'I':'L', 'J':'M', \n",
        "              'K':'N', 'L':'O', 'M':'P', 'N':'Q', 'O':'R', \n",
        "              'P':'S', 'Q':'T', 'R':'U', 'S':'V', 'T':'W', \n",
        "              'U':'X', 'V':'Y', 'W':'Z', 'X':'A', 'Y':'B', 'Z':'C'}\n",
        "\n",
        "plain_text = input(\"Enter the message to be encrypted: \")\n",
        "\n",
        "plain_text = plain_text.upper()\n",
        "\n",
        "cipher_text = \"\"\n",
        "for letter in plain_text:\n",
        "  if letter in cipher_key:\n",
        "    cipher_text += cipher_key[letter]\n",
        "\n",
        "print(\"The encrypted text is: \", cipher_text)\n",
        "\n",
        "decipher_key = {'D':'A', 'E':'B', 'F':'C', 'G':'D', 'H':'E', \n",
        "              'I':'F', 'J':'G', 'K':'H', 'L':'I', 'M':'J', \n",
        "              'N':'K', 'O':'L', 'P':'M', 'Q':'N', 'R':'O', \n",
        "              'S':'P', 'T':'Q', 'U':'R', 'V':'S', 'W':'T', \n",
        "              'X':'U', 'Y':'V', 'Z':'W', 'A':'X', 'B':'Y', 'C':'Z'}\n",
        "\n",
        "cipher_text = input(\"Enter the message to be decrypted: \")\n",
        "\n",
        "plain_text = \"\"\n",
        "for letter in cipher_text:\n",
        "  if letter in decipher_key:\n",
        "    plain_text += decipher_key[letter]\n",
        "\n",
        "print(\"The decrypted text is: \", plain_text)\n",
        "\n",
        "\n",
        "\n",
        " \n"
      ]
    }
  ]
}