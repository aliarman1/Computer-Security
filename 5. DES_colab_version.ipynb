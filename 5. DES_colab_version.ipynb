{
  "nbformat": 4,
  "nbformat_minor": 0,
  "metadata": {
    "colab": {
      "provenance": [],
      "authorship_tag": "ABX9TyO9c7e9FwGxkS5c6crISbI2",
      "include_colab_link": true
    },
    "kernelspec": {
      "name": "python3",
      "display_name": "Python 3"
    },
    "language_info": {
      "name": "python"
    }
  },
  "cells": [
    {
      "cell_type": "markdown",
      "metadata": {
        "id": "view-in-github",
        "colab_type": "text"
      },
      "source": [
        "<a href=\"https://colab.research.google.com/github/aliarman1/Computer-Security/blob/main/5.%20DES_colab_version.ipynb\" target=\"_parent\"><img src=\"https://colab.research.google.com/assets/colab-badge.svg\" alt=\"Open In Colab\"/></a>"
      ]
    },
    {
      "cell_type": "code",
      "execution_count": 2,
      "metadata": {
        "colab": {
          "base_uri": "https://localhost:8080/"
        },
        "id": "IEX6BQnoBAEh",
        "outputId": "aff7d247-e7e7-421c-8623-ee3651f7b2c7"
      },
      "outputs": [
        {
          "output_type": "stream",
          "name": "stdout",
          "text": [
            "Looking in indexes: https://pypi.org/simple, https://us-python.pkg.dev/colab-wheels/public/simple/\n",
            "Requirement already satisfied: pycryptodome in /usr/local/lib/python3.10/dist-packages (3.17)\n",
            "Looking in indexes: https://pypi.org/simple, https://us-python.pkg.dev/colab-wheels/public/simple/\n",
            "Requirement already satisfied: crypto in /usr/local/lib/python3.10/dist-packages (1.4.1)\n",
            "Requirement already satisfied: Naked in /usr/local/lib/python3.10/dist-packages (from crypto) (0.1.32)\n",
            "Requirement already satisfied: shellescape in /usr/local/lib/python3.10/dist-packages (from crypto) (3.8.1)\n",
            "Requirement already satisfied: requests in /usr/local/lib/python3.10/dist-packages (from Naked->crypto) (2.27.1)\n",
            "Requirement already satisfied: pyyaml in /usr/local/lib/python3.10/dist-packages (from Naked->crypto) (6.0)\n",
            "Requirement already satisfied: certifi>=2017.4.17 in /usr/local/lib/python3.10/dist-packages (from requests->Naked->crypto) (2022.12.7)\n",
            "Requirement already satisfied: charset-normalizer~=2.0.0 in /usr/local/lib/python3.10/dist-packages (from requests->Naked->crypto) (2.0.12)\n",
            "Requirement already satisfied: idna<4,>=2.5 in /usr/local/lib/python3.10/dist-packages (from requests->Naked->crypto) (3.4)\n",
            "Requirement already satisfied: urllib3<1.27,>=1.21.1 in /usr/local/lib/python3.10/dist-packages (from requests->Naked->crypto) (1.26.15)\n"
          ]
        }
      ],
      "source": [
        "!pip install pycryptodome\n",
        "!pip install crypto"
      ]
    },
    {
      "cell_type": "code",
      "source": [
        "from Crypto.Cipher import DES\n",
        "from secrets import token_bytes"
      ],
      "metadata": {
        "id": "7khhO9YVGw4S"
      },
      "execution_count": 3,
      "outputs": []
    },
    {
      "cell_type": "code",
      "source": [
        "\n",
        "def get_key():\n",
        "  key = token_bytes(8)\n",
        "  print(f\"key is{key} \")\n",
        "  return key\n",
        "\n",
        "def encrypt(mas, key):\n",
        "  cipher = DES.new(key,DES.MODE_EAX)\n",
        "  nonce = cipher.nonce\n",
        "  cipher_text,tag = cipher.encrypt_and_digest(mas.encode('ascii'))\n",
        "  return cipher_text,tag,nonce\n",
        "\n",
        "from pickleshare import print_function\n",
        "msg = \"Hello World\"\n",
        "key = get_key()\n",
        "ct, tg, nc = encrypt(msg, key)\n",
        "print(f\"Plaintext: {msg} \\nCipherTex: {ct}\")\n",
        "\n",
        "def decrypt(ct,key,nonce,tag):\n",
        "  cipher = DES.new(key,DES.MODE_EAX,nonce=nonce)\n",
        "  plain_text = cipher.decrypt(ct)\n",
        "  return plain_text"
      ],
      "metadata": {
        "colab": {
          "base_uri": "https://localhost:8080/"
        },
        "id": "gUpZFuv_GzVz",
        "outputId": "891460c5-57e0-45c4-81a1-ee85d5c3eda0"
      },
      "execution_count": 4,
      "outputs": [
        {
          "output_type": "stream",
          "name": "stdout",
          "text": [
            "key isb'W\\xbe\\xb0>\\xd5{,w' \n",
            "Plaintext: Hello World \n",
            "CipherTex: b\"/\\x93lh\\xe5\\xbf\\x89h'FC\"\n"
          ]
        }
      ]
    },
    {
      "cell_type": "code",
      "source": [
        "plain_text =decrypt(ct,key,nc,tg)\n",
        "print(plain_text)"
      ],
      "metadata": {
        "colab": {
          "base_uri": "https://localhost:8080/"
        },
        "id": "nnj_e1MrG24C",
        "outputId": "e04b0cdd-954f-4f16-b05d-a8db2b2a73cf"
      },
      "execution_count": 6,
      "outputs": [
        {
          "output_type": "stream",
          "name": "stdout",
          "text": [
            "b'Hello World'\n"
          ]
        }
      ]
    }
  ]
}