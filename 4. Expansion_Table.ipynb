{
  "nbformat": 4,
  "nbformat_minor": 0,
  "metadata": {
    "colab": {
      "provenance": [],
      "authorship_tag": "ABX9TyPg8CldQJhOSOjBPJ7LZ2QP"
    },
    "kernelspec": {
      "name": "python3",
      "display_name": "Python 3"
    },
    "language_info": {
      "name": "python"
    }
  },
  "cells": [
    {
      "cell_type": "code",
      "execution_count": 1,
      "metadata": {
        "colab": {
          "base_uri": "https://localhost:8080/"
        },
        "id": "8W952osz-Daq",
        "outputId": "42633e8f-d573-46fa-9a7e-74b914256931"
      },
      "outputs": [
        {
          "output_type": "stream",
          "name": "stdout",
          "text": [
            "[1, 1, 0, 0, 0, 0, 0, 0, 0, 0, 0, 0, 0, 0, 0, 0, 0, 0, 0, 0, 0, 0, 0, 0, 0, 0, 0, 0, 0, 0, 0, 0, 0, 0, 0, 0, 0, 0, 0, 0, 0, 0, 0, 0, 0, 0, 1, 1]\n"
          ]
        }
      ],
      "source": [
        "EXPANSION_TABLE = [\n",
        "    31,  0,  1,  2,  3,  4,  3,  4,  5,  6,  7,  8,  7,  8,  9, 10,\n",
        "    11, 12, 11, 12, 13, 14, 15, 16, 15, 16, 17, 18, 19, 20, 19, 20,\n",
        "    21, 22, 23, 24, 23, 24, 25, 26, 27, 28, 27, 28, 29, 30, 31,  0,\n",
        "]\n",
        "\n",
        "def expand(block):\n",
        "    expanded_block = [0] * 48\n",
        "    for i in range(48):\n",
        "        expanded_block[i] = block[EXPANSION_TABLE[i]]\n",
        "    return expanded_block\n",
        "\n",
        "input_block = [\n",
        "    1, 0, 0, 0,  0, 0, 0, 0,  0, 0, 0, 0,  0, 0, 0, 0,\n",
        "    0, 0, 0, 0,  0, 0, 0, 0,  0, 0, 0, 0,  0, 0, 0, 1,\n",
        "]\n",
        "\n",
        "expanded_block = expand(input_block)\n",
        "\n",
        "print(expanded_block)"
      ]
    }
  ]
}