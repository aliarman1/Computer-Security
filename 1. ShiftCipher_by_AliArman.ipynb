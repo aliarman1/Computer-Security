{
  "nbformat": 4,
  "nbformat_minor": 0,
  "metadata": {
    "colab": {
      "provenance": [],
      "authorship_tag": "ABX9TyMoeILmcC8kdiMpIb2gkR1T"
    },
    "kernelspec": {
      "name": "python3",
      "display_name": "Python 3"
    },
    "language_info": {
      "name": "python"
    }
  },
  "cells": [
    {
      "cell_type": "code",
      "execution_count": 1,
      "metadata": {
        "colab": {
          "base_uri": "https://localhost:8080/"
        },
        "id": "Laj9DApn7Y0d",
        "outputId": "ef4a0d02-476a-46e8-850c-a2265ea308ef"
      },
      "outputs": [
        {
          "output_type": "stream",
          "name": "stdout",
          "text": [
            "Zh Oryh Edqjodghvk\n",
            "We Love Bangladesh\n"
          ]
        }
      ],
      "source": [
        "def encryptMe(text, key):\n",
        "    l = len(text)\n",
        "    tem = \"\"\n",
        "    for i in text:\n",
        "        if(ord(i)==32):\n",
        "            tem = tem + \" \"\n",
        "            continue\n",
        "        #small letter asci code 97 - 122\n",
        "        if(ord(i)>96):\n",
        "            l = 0\n",
        "            m = 0\n",
        "            if(ord(i)+key> 122): \n",
        "                l = 122 - ord(i)\n",
        "                l = l + key - 1\n",
        "                m = 97\n",
        "                i = chr(l + m)\n",
        "                tem = tem + i\n",
        "                continue\n",
        "\n",
        "            i = chr(ord(i)+ key + l + m)\n",
        "            \n",
        "            tem = tem + i\n",
        "            #operation for Capital Lettter\n",
        "        elif(ord(i)<ord('Z')+1):\n",
        "            l = 0\n",
        "            m = 0\n",
        "            if(ord(i)+key>ord('Z')):\n",
        "                l = ord('Z') - ord(i)\n",
        "                l = l + key - 1\n",
        "                m = ord('A')\n",
        "                i = chr(l + m)\n",
        "                tem = tem + i\n",
        "                continue\n",
        "\n",
        "            i = chr(ord(i)+ key + l + m)\n",
        "            \n",
        "            tem = tem + i\n",
        "    return tem\n",
        "            \n",
        "\n",
        "def decriptMe(text, key):\n",
        "    l = len(text)\n",
        "    tem = \"\"\n",
        "    for i in text:\n",
        "        if(ord(i)==32):\n",
        "            tem = tem + \" \"\n",
        "            continue\n",
        "        if(ord(i)>96):\n",
        "            l = 0\n",
        "            m = 0\n",
        "            if(ord(i)-key< ord('a')):\n",
        "                l =  ord(i) - ord('a')\n",
        "                l = l - key - 1\n",
        "                m = ord('z')\n",
        "                i = chr(m-l)\n",
        "                tem = tem + i\n",
        "                continue\n",
        "\n",
        "            i = chr(ord(i)- key)\n",
        "            \n",
        "            tem = tem + i\n",
        "        elif(ord(i)<ord('Z')+1):\n",
        "            l = 0\n",
        "            m = 0\n",
        "            if(ord(i)-key>ord('Z')):\n",
        "                l =  ord(i) - ord('Z')\n",
        "                l = l - key - 1\n",
        "                m = ord('A')\n",
        "                i = chr(m-l)\n",
        "                tem = tem + i\n",
        "                continue\n",
        "\n",
        "            i = chr(ord(i)- key)\n",
        "            \n",
        "            tem = tem + i\n",
        "    return tem\n",
        "\n",
        "\n",
        "if __name__ == '__main__':\n",
        "    \n",
        "    kk = encryptMe(\"We Love Bangladesh\", 3)\n",
        "    print(kk)\n",
        "    ll = decriptMe(kk, 3)\n",
        "    print(ll)"
      ]
    }
  ]
}
