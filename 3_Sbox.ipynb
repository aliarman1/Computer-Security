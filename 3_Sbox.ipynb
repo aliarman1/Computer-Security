{
  "nbformat": 4,
  "nbformat_minor": 0,
  "metadata": {
    "colab": {
      "provenance": [],
      "authorship_tag": "ABX9TyNc/NTroWm9pOkRex6K+2i4"
    },
    "kernelspec": {
      "name": "python3",
      "display_name": "Python 3"
    },
    "language_info": {
      "name": "python"
    }
  },
  "cells": [
    {
      "cell_type": "code",
      "execution_count": 1,
      "metadata": {
        "colab": {
          "base_uri": "https://localhost:8080/"
        },
        "id": "BvekjEWx9BMp",
        "outputId": "94a5b379-97aa-4c60-8927-8d78a4407f73"
      },
      "outputs": [
        {
          "output_type": "stream",
          "name": "stdout",
          "text": [
            "input = 111001\n",
            "56\n"
          ]
        }
      ],
      "source": [
        "def binaryToDecimal(n):\n",
        "    decimal = 0\n",
        "    power = 1\n",
        "    while n > 0:\n",
        "        rem = n % 10\n",
        "        n = n // 10\n",
        "        decimal += rem * power\n",
        "        power = power * 2\n",
        "\n",
        "    return decimal\n",
        "\n",
        "\n",
        "if __name__ == '__main__':\n",
        "    # s = input(\"Enter 6 bit : \")\n",
        "    s = \"111001\"\n",
        "    print(\"input = \"+s)\n",
        "    row = s[0]+s[5]\n",
        "    # print(row)\n",
        "    row = int(row)\n",
        "    row = binaryToDecimal(row)\n",
        "    col = s[1]+s[2]+s[3]+s[4]\n",
        "    # print(col)\n",
        "    col = int(col)\n",
        "    col = binaryToDecimal(col)\n",
        "\n",
        "    sbox= [[1,2,3,4,5,6,7,8,9,10,11,12,13,14,15,16],\n",
        "           [1,2,3,4,5,6,7,8,9,10,11,12,13,14,15,16],\n",
        "           [1,2,3,4,5,6,22,8,9,10,11,12,13,14,15,16],\n",
        "           [1,2,3,4,5,6,7,8,9,10,11,12,56,14,15,16]]\n",
        "\n",
        "    output = sbox[row][col]\n",
        "    print(output)\n"
      ]
    }
  ]
}