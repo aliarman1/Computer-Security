{
  "nbformat": 4,
  "nbformat_minor": 0,
  "metadata": {
    "colab": {
      "provenance": [],
      "authorship_tag": "ABX9TyNY8zVQWp0aXdOVydo0+Wm7"
    },
    "kernelspec": {
      "name": "python3",
      "display_name": "Python 3"
    },
    "language_info": {
      "name": "python"
    }
  },
  "cells": [
    {
      "cell_type": "code",
      "execution_count": 1,
      "metadata": {
        "colab": {
          "base_uri": "https://localhost:8080/"
        },
        "id": "croSC0VV6AvK",
        "outputId": "bb4d4530-574c-4775-da56-976653021c87"
      },
      "outputs": [
        {
          "output_type": "stream",
          "name": "stdout",
          "text": [
            "Enter the plaintext: Hello\n",
            "Enter the shift key: 2\n",
            "Encrypted Ciphertext: Jgnnq\n",
            "Decrypted Message: Hello\n"
          ]
        }
      ],
      "source": [
        "def Encryption(text, shift):\n",
        "    result = \"\"\n",
        "    for i in range(len(text)):\n",
        "        char = text[i]\n",
        "        if char.isupper():\n",
        "            result += chr((ord(char) + shift - 65) % 26 + 65)\n",
        "        elif char.islower():\n",
        "            result += chr((ord(char) + shift - 97) % 26 + 97)\n",
        "        else:\n",
        "            result += char\n",
        "    print(\"Encrypted Ciphertext: \"+ result)\n",
        "    Decryption(result)\n",
        "    \n",
        "\n",
        "\n",
        "def Decryption(ciphertext):\n",
        "    result = \"\"\n",
        "    for i in range(len(ciphertext)):\n",
        "        char = ciphertext[i]\n",
        "        if char.isupper():\n",
        "            result += chr((ord(char) - shift - 65) % 26 + 65)\n",
        "        elif char.islower():\n",
        "            result += chr((ord(char) - shift - 97) % 26 + 97)\n",
        "        else:\n",
        "            result += char\n",
        "    print(\"Decrypted Message: \" + result)\n",
        "\n",
        "\n",
        "plaintext = input(\"Enter the plaintext: \")\n",
        "shift = int(input(\"Enter the shift key: \"))\n",
        "Encryption(plaintext, shift)"
      ]
    }
  ]
}